{
  "cells": [
    {
      "cell_type": "markdown",
      "metadata": {
        "id": "view-in-github",
        "colab_type": "text"
      },
      "source": [
        "<a href=\"https://colab.research.google.com/github/talibilat/NLP/blob/main/XMLC_DeepLearning.ipynb\" target=\"_parent\"><img src=\"https://colab.research.google.com/assets/colab-badge.svg\" alt=\"Open In Colab\"/></a>"
      ]
    },
    {
      "cell_type": "markdown",
      "metadata": {
        "id": "6fd0v_ovz0mn"
      },
      "source": [
        "##Importing Data from Kaggle\n",
        "\n"
      ]
    },
    {
      "cell_type": "code",
      "execution_count": null,
      "metadata": {
        "colab": {
          "base_uri": "https://localhost:8080/"
        },
        "id": "N0TeU8-dy9aQ",
        "outputId": "d6b37bbf-f6f5-4bc8-b047-e0638becc531"
      },
      "outputs": [
        {
          "output_type": "stream",
          "name": "stdout",
          "text": [
            "Looking in indexes: https://pypi.org/simple, https://us-python.pkg.dev/colab-wheels/public/simple/\n",
            "Requirement already satisfied: kaggle in /usr/local/lib/python3.7/dist-packages (1.5.12)\n",
            "Requirement already satisfied: python-dateutil in /usr/local/lib/python3.7/dist-packages (from kaggle) (2.8.2)\n",
            "Requirement already satisfied: tqdm in /usr/local/lib/python3.7/dist-packages (from kaggle) (4.64.0)\n",
            "Requirement already satisfied: requests in /usr/local/lib/python3.7/dist-packages (from kaggle) (2.23.0)\n",
            "Requirement already satisfied: certifi in /usr/local/lib/python3.7/dist-packages (from kaggle) (2022.6.15)\n",
            "Requirement already satisfied: urllib3 in /usr/local/lib/python3.7/dist-packages (from kaggle) (1.24.3)\n",
            "Requirement already satisfied: python-slugify in /usr/local/lib/python3.7/dist-packages (from kaggle) (6.1.2)\n",
            "Requirement already satisfied: six>=1.10 in /usr/local/lib/python3.7/dist-packages (from kaggle) (1.15.0)\n",
            "Requirement already satisfied: text-unidecode>=1.3 in /usr/local/lib/python3.7/dist-packages (from python-slugify->kaggle) (1.3)\n",
            "Requirement already satisfied: idna<3,>=2.5 in /usr/local/lib/python3.7/dist-packages (from requests->kaggle) (2.10)\n",
            "Requirement already satisfied: chardet<4,>=3.0.2 in /usr/local/lib/python3.7/dist-packages (from requests->kaggle) (3.0.4)\n",
            "mkdir: cannot create directory ‘/root/.kaggle’: File exists\n",
            "Downloading titlebased-semantic-subject-indexing.zip to /content\n",
            " 99% 1.22G/1.24G [00:12<00:00, 115MB/s]\n",
            "100% 1.24G/1.24G [00:12<00:00, 102MB/s]\n"
          ]
        }
      ],
      "source": [
        "! pip install kaggle\n",
        "! mkdir ~/.kaggle\n",
        "! cp kaggle.json ~/.kaggle/\n",
        "! chmod 600 ~/.kaggle/kaggle.json\n",
        "! kaggle datasets download -d hsrobo/titlebased-semantic-subject-indexing\n",
        "  "
      ]
    },
    {
      "cell_type": "code",
      "execution_count": null,
      "metadata": {
        "colab": {
          "base_uri": "https://localhost:8080/"
        },
        "id": "RiOBrEP46qw_",
        "outputId": "db943d51-4ec2-42d5-b2ce-b4b22ebc6221"
      },
      "outputs": [
        {
          "output_type": "stream",
          "name": "stdout",
          "text": [
            "Done\n"
          ]
        }
      ],
      "source": [
        "from zipfile import ZipFile\n",
        "file_name = 'titlebased-semantic-subject-indexing.zip'                          #extracting the zip file\n",
        "with ZipFile(file_name, 'r') as zip:                                            # using the exact name of the downloaded file\n",
        "  zip.extractall()\n",
        "  print('Done')"
      ]
    },
    {
      "cell_type": "markdown",
      "metadata": {
        "id": "cwDFCD_cz-D_"
      },
      "source": [
        "##Importing required libraries"
      ]
    },
    {
      "cell_type": "code",
      "execution_count": null,
      "metadata": {
        "colab": {
          "base_uri": "https://localhost:8080/"
        },
        "id": "O2bOh6b4zCuI",
        "outputId": "b3cf0a50-5e93-4298-869c-df83f2fab578"
      },
      "outputs": [
        {
          "output_type": "stream",
          "name": "stderr",
          "text": [
            "[nltk_data] Downloading package stopwords to /root/nltk_data...\n",
            "[nltk_data]   Package stopwords is already up-to-date!\n",
            "[nltk_data] Downloading package punkt to /root/nltk_data...\n",
            "[nltk_data]   Package punkt is already up-to-date!\n"
          ]
        }
      ],
      "source": [
        "import pandas as pd\n",
        "import numpy as np\n",
        "import nltk\n",
        "import re\n",
        "from nltk.corpus import stopwords\n",
        "from nltk.tokenize import word_tokenize\n",
        "from textblob import Word\n",
        "from keras.preprocessing.text import Tokenizer\n",
        "from keras.preprocessing.sequence import pad_sequences\n",
        "from sklearn.preprocessing import MultiLabelBinarizer\n",
        "from sklearn.model_selection import train_test_split\n",
        "from sklearn.metrics import f1_score, hamming_loss\n",
        "from keras.layers import Dense, Activation, Dropout, BatchNormalization,Embedding\n",
        "from keras.models import Sequential\n",
        "from keras.layers import Conv1D, GlobalMaxPooling1D\n",
        "from keras.models import Sequential\n",
        "from keras.layers import Dense, Dropout, Embedding, LSTM, Bidirectional\n",
        "nltk.download('stopwords')\n",
        "nltk.download('punkt')\n",
        "stop = stopwords.words('english')\n"
      ]
    },
    {
      "cell_type": "markdown",
      "metadata": {
        "id": "k2vT5B3o0Dmp"
      },
      "source": [
        "##Loading Dataset"
      ]
    },
    {
      "cell_type": "code",
      "execution_count": null,
      "metadata": {
        "colab": {
          "base_uri": "https://localhost:8080/",
          "height": 424
        },
        "id": "cRgpUD12zuZe",
        "outputId": "52160ea1-a05e-4ca1-b1ab-ab782c354ae8"
      },
      "outputs": [
        {
          "output_type": "execute_result",
          "data": {
            "text/plain": [
              "                                                   title  \\\n",
              "0      Water insecurity and the poor : issues and res...   \n",
              "1      Crop biotechnology in developing countries : a...   \n",
              "2         Medicaid, intergovernmental trends and options   \n",
              "3      State solvency regulation of property-casualty...   \n",
              "4        Tax and expenditure limits on local governments   \n",
              "...                                                  ...   \n",
              "99995               Adverse selection and intermediation   \n",
              "99996  Organizational drift as a response to resource...   \n",
              "99997  Taxes and the portfolio composition of househo...   \n",
              "99998  Overdrafts, interest rate regulation and the e...   \n",
              "99999   On spatiotemporal dynamics of capital and labour   \n",
              "\n",
              "                                                  labels  \n",
              "0            18377-5\\t18378-3\\t18232-3\\t10488-1\\t10492-3  \n",
              "1                     18317-2\\t16696-6\\t11529-1\\t10492-3  \n",
              "2            13415-6\\t19507-6\\t19517-3\\t11600-0\\t17829-1  \n",
              "3      13297-0\\t13294-6\\t13818-5\\t12228-3\\t10894-4\\t1...  \n",
              "4            11553-4\\t11653-0\\t11539-5\\t11731-6\\t17829-1  \n",
              "...                                                  ...  \n",
              "99995                 19227-5\\t12809-4\\t10213-5\\t19073-6  \n",
              "99996                 13397-3\\t13670-4\\t18449-6\\t16989-5  \n",
              "99997                 12212-4\\t11650-6\\t13398-1\\t16989-5  \n",
              "99998                 12251-1\\t11460-4\\t10135-6\\t10382-3  \n",
              "99999                          10122-1\\t10327-4\\t11912-2  \n",
              "\n",
              "[100000 rows x 2 columns]"
            ],
            "text/html": [
              "\n",
              "  <div id=\"df-2b5bcee3-b852-4ea5-9a07-8d9a02001990\">\n",
              "    <div class=\"colab-df-container\">\n",
              "      <div>\n",
              "<style scoped>\n",
              "    .dataframe tbody tr th:only-of-type {\n",
              "        vertical-align: middle;\n",
              "    }\n",
              "\n",
              "    .dataframe tbody tr th {\n",
              "        vertical-align: top;\n",
              "    }\n",
              "\n",
              "    .dataframe thead th {\n",
              "        text-align: right;\n",
              "    }\n",
              "</style>\n",
              "<table border=\"1\" class=\"dataframe\">\n",
              "  <thead>\n",
              "    <tr style=\"text-align: right;\">\n",
              "      <th></th>\n",
              "      <th>title</th>\n",
              "      <th>labels</th>\n",
              "    </tr>\n",
              "  </thead>\n",
              "  <tbody>\n",
              "    <tr>\n",
              "      <th>0</th>\n",
              "      <td>Water insecurity and the poor : issues and res...</td>\n",
              "      <td>18377-5\\t18378-3\\t18232-3\\t10488-1\\t10492-3</td>\n",
              "    </tr>\n",
              "    <tr>\n",
              "      <th>1</th>\n",
              "      <td>Crop biotechnology in developing countries : a...</td>\n",
              "      <td>18317-2\\t16696-6\\t11529-1\\t10492-3</td>\n",
              "    </tr>\n",
              "    <tr>\n",
              "      <th>2</th>\n",
              "      <td>Medicaid, intergovernmental trends and options</td>\n",
              "      <td>13415-6\\t19507-6\\t19517-3\\t11600-0\\t17829-1</td>\n",
              "    </tr>\n",
              "    <tr>\n",
              "      <th>3</th>\n",
              "      <td>State solvency regulation of property-casualty...</td>\n",
              "      <td>13297-0\\t13294-6\\t13818-5\\t12228-3\\t10894-4\\t1...</td>\n",
              "    </tr>\n",
              "    <tr>\n",
              "      <th>4</th>\n",
              "      <td>Tax and expenditure limits on local governments</td>\n",
              "      <td>11553-4\\t11653-0\\t11539-5\\t11731-6\\t17829-1</td>\n",
              "    </tr>\n",
              "    <tr>\n",
              "      <th>...</th>\n",
              "      <td>...</td>\n",
              "      <td>...</td>\n",
              "    </tr>\n",
              "    <tr>\n",
              "      <th>99995</th>\n",
              "      <td>Adverse selection and intermediation</td>\n",
              "      <td>19227-5\\t12809-4\\t10213-5\\t19073-6</td>\n",
              "    </tr>\n",
              "    <tr>\n",
              "      <th>99996</th>\n",
              "      <td>Organizational drift as a response to resource...</td>\n",
              "      <td>13397-3\\t13670-4\\t18449-6\\t16989-5</td>\n",
              "    </tr>\n",
              "    <tr>\n",
              "      <th>99997</th>\n",
              "      <td>Taxes and the portfolio composition of househo...</td>\n",
              "      <td>12212-4\\t11650-6\\t13398-1\\t16989-5</td>\n",
              "    </tr>\n",
              "    <tr>\n",
              "      <th>99998</th>\n",
              "      <td>Overdrafts, interest rate regulation and the e...</td>\n",
              "      <td>12251-1\\t11460-4\\t10135-6\\t10382-3</td>\n",
              "    </tr>\n",
              "    <tr>\n",
              "      <th>99999</th>\n",
              "      <td>On spatiotemporal dynamics of capital and labour</td>\n",
              "      <td>10122-1\\t10327-4\\t11912-2</td>\n",
              "    </tr>\n",
              "  </tbody>\n",
              "</table>\n",
              "<p>100000 rows × 2 columns</p>\n",
              "</div>\n",
              "      <button class=\"colab-df-convert\" onclick=\"convertToInteractive('df-2b5bcee3-b852-4ea5-9a07-8d9a02001990')\"\n",
              "              title=\"Convert this dataframe to an interactive table.\"\n",
              "              style=\"display:none;\">\n",
              "        \n",
              "  <svg xmlns=\"http://www.w3.org/2000/svg\" height=\"24px\"viewBox=\"0 0 24 24\"\n",
              "       width=\"24px\">\n",
              "    <path d=\"M0 0h24v24H0V0z\" fill=\"none\"/>\n",
              "    <path d=\"M18.56 5.44l.94 2.06.94-2.06 2.06-.94-2.06-.94-.94-2.06-.94 2.06-2.06.94zm-11 1L8.5 8.5l.94-2.06 2.06-.94-2.06-.94L8.5 2.5l-.94 2.06-2.06.94zm10 10l.94 2.06.94-2.06 2.06-.94-2.06-.94-.94-2.06-.94 2.06-2.06.94z\"/><path d=\"M17.41 7.96l-1.37-1.37c-.4-.4-.92-.59-1.43-.59-.52 0-1.04.2-1.43.59L10.3 9.45l-7.72 7.72c-.78.78-.78 2.05 0 2.83L4 21.41c.39.39.9.59 1.41.59.51 0 1.02-.2 1.41-.59l7.78-7.78 2.81-2.81c.8-.78.8-2.07 0-2.86zM5.41 20L4 18.59l7.72-7.72 1.47 1.35L5.41 20z\"/>\n",
              "  </svg>\n",
              "      </button>\n",
              "      \n",
              "  <style>\n",
              "    .colab-df-container {\n",
              "      display:flex;\n",
              "      flex-wrap:wrap;\n",
              "      gap: 12px;\n",
              "    }\n",
              "\n",
              "    .colab-df-convert {\n",
              "      background-color: #E8F0FE;\n",
              "      border: none;\n",
              "      border-radius: 50%;\n",
              "      cursor: pointer;\n",
              "      display: none;\n",
              "      fill: #1967D2;\n",
              "      height: 32px;\n",
              "      padding: 0 0 0 0;\n",
              "      width: 32px;\n",
              "    }\n",
              "\n",
              "    .colab-df-convert:hover {\n",
              "      background-color: #E2EBFA;\n",
              "      box-shadow: 0px 1px 2px rgba(60, 64, 67, 0.3), 0px 1px 3px 1px rgba(60, 64, 67, 0.15);\n",
              "      fill: #174EA6;\n",
              "    }\n",
              "\n",
              "    [theme=dark] .colab-df-convert {\n",
              "      background-color: #3B4455;\n",
              "      fill: #D2E3FC;\n",
              "    }\n",
              "\n",
              "    [theme=dark] .colab-df-convert:hover {\n",
              "      background-color: #434B5C;\n",
              "      box-shadow: 0px 1px 3px 1px rgba(0, 0, 0, 0.15);\n",
              "      filter: drop-shadow(0px 1px 2px rgba(0, 0, 0, 0.3));\n",
              "      fill: #FFFFFF;\n",
              "    }\n",
              "  </style>\n",
              "\n",
              "      <script>\n",
              "        const buttonEl =\n",
              "          document.querySelector('#df-2b5bcee3-b852-4ea5-9a07-8d9a02001990 button.colab-df-convert');\n",
              "        buttonEl.style.display =\n",
              "          google.colab.kernel.accessAllowed ? 'block' : 'none';\n",
              "\n",
              "        async function convertToInteractive(key) {\n",
              "          const element = document.querySelector('#df-2b5bcee3-b852-4ea5-9a07-8d9a02001990');\n",
              "          const dataTable =\n",
              "            await google.colab.kernel.invokeFunction('convertToInteractive',\n",
              "                                                     [key], {});\n",
              "          if (!dataTable) return;\n",
              "\n",
              "          const docLinkHtml = 'Like what you see? Visit the ' +\n",
              "            '<a target=\"_blank\" href=https://colab.research.google.com/notebooks/data_table.ipynb>data table notebook</a>'\n",
              "            + ' to learn more about interactive tables.';\n",
              "          element.innerHTML = '';\n",
              "          dataTable['output_type'] = 'display_data';\n",
              "          await google.colab.output.renderOutput(dataTable, element);\n",
              "          const docLink = document.createElement('div');\n",
              "          docLink.innerHTML = docLinkHtml;\n",
              "          element.appendChild(docLink);\n",
              "        }\n",
              "      </script>\n",
              "    </div>\n",
              "  </div>\n",
              "  "
            ]
          },
          "metadata": {},
          "execution_count": 115
        }
      ],
      "source": [
        "df = pd.read_csv(\"econbiz.csv\")  \n",
        "df = df.iloc[0:100000]                                                          # Loading econbiz\n",
        "df = df[['title','labels']]   \n",
        "df                                                                              # Only keeping the required columns"
      ]
    },
    {
      "cell_type": "markdown",
      "metadata": {
        "id": "NmnYOZbO0GHh"
      },
      "source": [
        "##Pre-Processing"
      ]
    },
    {
      "cell_type": "code",
      "execution_count": null,
      "metadata": {
        "id": "fZpGp9YFzlIl"
      },
      "outputs": [],
      "source": [
        "def pprocessing(df):\n",
        "    df['title'] = df['title'].apply(lambda x: \" \".join(x.lower() for x in x.split()))                      # Converting the document to lower case\n",
        "    df['title'] = df['title'].apply(lambda x: \" \".join(x for x in x.split() if x not in stop))             # Removing the stopwords\n",
        "    df['title'] = df['title'].apply(lambda x: \" \".join([Word(word).stem() for word in x.split()]))         # Stemming the document\n",
        "    return df\n",
        "\n",
        "def cleaning(title):\n",
        "    title_processed = re.sub('[^a-zA-Z]', ' ', title)                           # Removing Numbers\n",
        "    title_processed = re.sub(r\"\\s+[a-zA-Z]\\s+\", ' ', title_processed)           # Removing single characters\n",
        "    title_processed = re.sub(r'\\s+', ' ', title_processed)                      # Removing multiple spaces\n",
        "    return title_processed"
      ]
    },
    {
      "cell_type": "code",
      "execution_count": null,
      "metadata": {
        "id": "Y72cVNv92gxW"
      },
      "outputs": [],
      "source": [
        "X = []\n",
        "new_df = pprocessing(df)\n",
        "title_unprocessed = list(df['title'])\n",
        "\n",
        "for idx,title in enumerate(title_unprocessed):\n",
        "  X.append(cleaning(title))\n",
        "\n",
        "mlb = MultiLabelBinarizer()                                                     #Preprocess labels to be a binary representation\n",
        "mlb.fit(df.labels)\n",
        "labels = mlb.classes_\n",
        "y = mlb.transform(df.labels)\n",
        "\n",
        "\n",
        "\n",
        "x_train, x_test, y_train, y_test = train_test_split(X, y, test_size=0.3, random_state=42)   # Dividing the data into train and test."
      ]
    },
    {
      "cell_type": "code",
      "execution_count": null,
      "metadata": {
        "colab": {
          "base_uri": "https://localhost:8080/"
        },
        "id": "o0IIdvlq2lNj",
        "outputId": "c5781bdb-f848-44c2-9a01-d3753dc1d30c"
      },
      "outputs": [
        {
          "output_type": "stream",
          "name": "stdout",
          "text": [
            "x_train shape: (70000, 51)\n",
            "x_test shape: (30000, 51)\n"
          ]
        }
      ],
      "source": [
        "tokenizer = Tokenizer(num_words=5000, lower=True)                               #Initialize tokenizer from keras that will vectorize title values\n",
        "\n",
        "tokenizer.fit_on_texts(x_train)\n",
        "\n",
        "x_train = tokenizer.texts_to_sequences(x_train)\n",
        "x_test = tokenizer.texts_to_sequences(x_test)\n",
        "\n",
        "vocabulary_size = len(tokenizer.word_index) + 1\n",
        "\n",
        "x_train = pad_sequences(x_train, padding= 'post',maxlen=51)\n",
        "x_test = pad_sequences(x_test,padding='post',maxlen=51)\n",
        "print('x_train shape:', x_train.shape)\n",
        "print('x_test shape:', x_test.shape)"
      ]
    },
    {
      "cell_type": "code",
      "execution_count": null,
      "metadata": {
        "id": "dUjHfRyrDqCn"
      },
      "outputs": [],
      "source": [
        "model = Sequential()                                                            # Buiding a sequencial model for KERAS BiLSTM\n",
        "model.add(Embedding(vocabulary_size, 128, input_length=51))                     # Embedding\n",
        "model.add(Bidirectional(LSTM(64)))                                              # Using single Bidirectional LSTM\n",
        "model.add(Dropout(0.5))                                                         # Dropping out 50% of neurons\n",
        "model.add(Dense(y_train.shape[1], activation='sigmoid'))                        # Using last dense layer with sigmoid function\n",
        "model.compile('adam', 'binary_crossentropy', metrics=['accuracy'])\n",
        "\n",
        "\n"
      ]
    },
    {
      "cell_type": "code",
      "execution_count": null,
      "metadata": {
        "colab": {
          "base_uri": "https://localhost:8080/"
        },
        "id": "EXTQjytTMQ5Q",
        "outputId": "71519d63-66da-48b4-e5ce-c1c8f5dac444"
      },
      "outputs": [
        {
          "output_type": "stream",
          "name": "stdout",
          "text": [
            "Model: \"sequential_18\"\n",
            "_________________________________________________________________\n",
            " Layer (type)                Output Shape              Param #   \n",
            "=================================================================\n",
            " embedding_18 (Embedding)    (None, 51, 128)           2545152   \n",
            "                                                                 \n",
            " bidirectional_13 (Bidirecti  (None, 128)              98816     \n",
            " onal)                                                           \n",
            "                                                                 \n",
            " dropout_23 (Dropout)        (None, 128)               0         \n",
            "                                                                 \n",
            " dense_26 (Dense)            (None, 12)                1548      \n",
            "                                                                 \n",
            "=================================================================\n",
            "Total params: 2,645,516\n",
            "Trainable params: 2,645,516\n",
            "Non-trainable params: 0\n",
            "_________________________________________________________________\n"
          ]
        }
      ],
      "source": [
        "model.summary()"
      ]
    },
    {
      "cell_type": "code",
      "execution_count": null,
      "metadata": {
        "colab": {
          "base_uri": "https://localhost:8080/"
        },
        "id": "xAMQziwXHB09",
        "outputId": "2a10f944-7d32-477b-8f7c-379ac57ca6a8"
      },
      "outputs": [
        {
          "output_type": "stream",
          "name": "stdout",
          "text": [
            "Epoch 1/2\n",
            "2188/2188 [==============================] - 211s 95ms/step - loss: 0.2948 - accuracy: 0.0173 - val_loss: 0.2733 - val_accuracy: 0.0273\n",
            "Epoch 2/2\n",
            "2188/2188 [==============================] - 209s 96ms/step - loss: 0.2677 - accuracy: 0.0260 - val_loss: 0.2668 - val_accuracy: 0.0275\n"
          ]
        },
        {
          "output_type": "execute_result",
          "data": {
            "text/plain": [
              "<keras.callbacks.History at 0x7f06d1fdd710>"
            ]
          },
          "metadata": {},
          "execution_count": 121
        }
      ],
      "source": [
        "model.fit(x_train, y_train,                                                     # Fitting the model\n",
        "          batch_size=32,\n",
        "          epochs=2,\n",
        "          validation_data=[x_test, y_test])"
      ]
    },
    {
      "cell_type": "code",
      "source": [
        "pl = np.arange(0.05,1.0,0.05)                                                   # Evaluating the model\n",
        "for i in pl:\n",
        "  y_hat = model.predict(x_test)\n",
        "  y_hat[y_hat>=i] = 1\n",
        "  y_hat[y_hat<i] = 0\n",
        "  F1 = f1_score(y_test, y_hat, average=\"samples\")\n",
        "print('F1 Score of LSTM is :', F1)"
      ],
      "metadata": {
        "colab": {
          "base_uri": "https://localhost:8080/"
        },
        "id": "BfSibImLkfWs",
        "outputId": "7118aa02-4756-40a1-cd3e-62d39220517f"
      },
      "execution_count": null,
      "outputs": [
        {
          "output_type": "stream",
          "name": "stdout",
          "text": [
            "F1 Score of LSTM is : 0.6352569133267235\n"
          ]
        }
      ]
    },
    {
      "cell_type": "code",
      "source": [],
      "metadata": {
        "id": "hZoxws6lcEPK"
      },
      "execution_count": null,
      "outputs": []
    },
    {
      "cell_type": "markdown",
      "metadata": {
        "id": "_SkEoNHBV6S1"
      },
      "source": [
        "##CNN"
      ]
    },
    {
      "cell_type": "code",
      "execution_count": null,
      "metadata": {
        "colab": {
          "base_uri": "https://localhost:8080/"
        },
        "id": "Ysshvit6Ds0n",
        "outputId": "379168e7-97c1-41d0-aa8f-6a8b799afa39"
      },
      "outputs": [
        {
          "output_type": "stream",
          "name": "stdout",
          "text": [
            "Epoch 1/2\n",
            "2188/2188 [==============================] - 58s 26ms/step - loss: 0.2944 - accuracy: 0.0278 - val_loss: 0.2759 - val_accuracy: 0.0275\n",
            "Epoch 2/2\n",
            "2188/2188 [==============================] - 59s 27ms/step - loss: 0.2676 - accuracy: 0.0285 - val_loss: 0.2677 - val_accuracy: 0.0275\n"
          ]
        },
        {
          "output_type": "execute_result",
          "data": {
            "text/plain": [
              "<keras.callbacks.History at 0x7f06ca2a7f10>"
            ]
          },
          "metadata": {},
          "execution_count": 123
        }
      ],
      "source": [
        "model = Sequential()\n",
        "\n",
        "model.add(Embedding(vocabulary_size,\n",
        "                    50,\n",
        "                    input_length=51))\n",
        "model.add(Dropout(0.2))\n",
        "model.add(Conv1D(250,\n",
        "                 3,\n",
        "                 padding='valid',\n",
        "                 activation='relu',\n",
        "                 strides=1))\n",
        "model.add(GlobalMaxPooling1D())\n",
        "model.add(Dense(250))\n",
        "model.add(Dropout(0.2))\n",
        "model.add(Activation('relu'))\n",
        "model.add(Dense(y_train.shape[1]))\n",
        "model.add(Activation('sigmoid'))\n",
        "\n",
        "model.compile(loss='binary_crossentropy',\n",
        "              optimizer='adam',\n",
        "              metrics=['accuracy'])\n",
        "model.fit(x_train, y_train,\n",
        "          batch_size=32,\n",
        "          epochs=2,\n",
        "          validation_data=(x_test, y_test))"
      ]
    },
    {
      "cell_type": "code",
      "execution_count": null,
      "metadata": {
        "colab": {
          "base_uri": "https://localhost:8080/"
        },
        "id": "76b7JmPZWzRc",
        "outputId": "3368f9e3-16a9-4120-e333-c36714692750"
      },
      "outputs": [
        {
          "output_type": "stream",
          "name": "stdout",
          "text": [
            "Model: \"sequential_19\"\n",
            "_________________________________________________________________\n",
            " Layer (type)                Output Shape              Param #   \n",
            "=================================================================\n",
            " embedding_19 (Embedding)    (None, 51, 50)            994200    \n",
            "                                                                 \n",
            " dropout_24 (Dropout)        (None, 51, 50)            0         \n",
            "                                                                 \n",
            " conv1d_5 (Conv1D)           (None, 49, 250)           37750     \n",
            "                                                                 \n",
            " global_max_pooling1d_5 (Glo  (None, 250)              0         \n",
            " balMaxPooling1D)                                                \n",
            "                                                                 \n",
            " dense_27 (Dense)            (None, 250)               62750     \n",
            "                                                                 \n",
            " dropout_25 (Dropout)        (None, 250)               0         \n",
            "                                                                 \n",
            " activation_10 (Activation)  (None, 250)               0         \n",
            "                                                                 \n",
            " dense_28 (Dense)            (None, 12)                3012      \n",
            "                                                                 \n",
            " activation_11 (Activation)  (None, 12)                0         \n",
            "                                                                 \n",
            "=================================================================\n",
            "Total params: 1,097,712\n",
            "Trainable params: 1,097,712\n",
            "Non-trainable params: 0\n",
            "_________________________________________________________________\n"
          ]
        }
      ],
      "source": [
        "model.summary()"
      ]
    },
    {
      "cell_type": "code",
      "execution_count": null,
      "metadata": {
        "colab": {
          "base_uri": "https://localhost:8080/"
        },
        "id": "n2ZtxmFXW1MH",
        "outputId": "9d06ec54-8376-409c-f142-db2201c1ea31"
      },
      "outputs": [
        {
          "output_type": "stream",
          "name": "stdout",
          "text": [
            "Epoch 1/2\n",
            "2188/2188 [==============================] - 58s 26ms/step - loss: 0.2537 - accuracy: 0.0285 - val_loss: 0.2647 - val_accuracy: 0.0275\n",
            "Epoch 2/2\n",
            "2188/2188 [==============================] - 59s 27ms/step - loss: 0.2438 - accuracy: 0.0285 - val_loss: 0.2658 - val_accuracy: 0.0275\n",
            "F1 Score of CNN is : 0.6671025230513493\n",
            "F1 Score of LSTM is : 0.6352569133267235\n"
          ]
        }
      ],
      "source": [
        "model.fit(x_train, y_train,\n",
        "          batch_size=32,\n",
        "          epochs=2,\n",
        "          validation_data=[x_test, y_test])\n",
        "\n",
        "pl2 = np.arange(0.05,1.0,0.05)\n",
        "for i in pl2:\n",
        "  y2_hat = model.predict(x_test)\n",
        "  y2_hat[y2_hat>=i] = 1\n",
        "  y2_hat[y2_hat<i] = 0\n",
        "  F11 = f1_score(y_test, y2_hat, average=\"samples\")\n",
        "\n",
        "print('F1 Score of CNN is :', F11)\n",
        "print('F1 Score of LSTM is :', F1)"
      ]
    },
    {
      "cell_type": "code",
      "source": [],
      "metadata": {
        "id": "e46IwHT6X1ga"
      },
      "execution_count": null,
      "outputs": []
    }
  ],
  "metadata": {
    "colab": {
      "provenance": [],
      "authorship_tag": "ABX9TyMIPRW+CCFMd9Z+K9V6DvPW",
      "include_colab_link": true
    },
    "gpuClass": "standard",
    "kernelspec": {
      "display_name": "Python 3",
      "name": "python3"
    },
    "language_info": {
      "name": "python"
    }
  },
  "nbformat": 4,
  "nbformat_minor": 0
}